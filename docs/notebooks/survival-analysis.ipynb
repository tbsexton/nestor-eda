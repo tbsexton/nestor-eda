{
 "cells": [
  {
   "cell_type": "markdown",
   "metadata": {},
   "source": [
    "# Survival Analysis\n",
    "\n",
    "Mining Excavator dataset case study"
   ]
  },
  {
   "cell_type": "code",
   "execution_count": 1,
   "metadata": {
    "hide_input": false
   },
   "outputs": [
    {
     "name": "stderr",
     "output_type": "stream",
     "text": [
      "/home/tbsexton/miniconda3/envs/nestor-mod/lib/python3.7/site-packages/tqdm/autonotebook/__init__.py:18: TqdmExperimentalWarning: Using `tqdm.autonotebook.tqdm` in notebook mode. Use `tqdm.tqdm` instead to force console mode (e.g. in jupyter console)\n",
      "  \" (e.g. in jupyter console)\", TqdmExperimentalWarning)\n"
     ]
    }
   ],
   "source": [
    "from pathlib import Path\n",
    "import numpy as np\n",
    "import pandas as pd\n",
    "import seaborn as sns\n",
    "import matplotlib.pyplot as plt\n",
    "%matplotlib inline\n",
    "\n",
    "import nestor\n",
    "from nestor import keyword as kex\n",
    "import nestor.datasets as dat\n",
    "def set_style():\n",
    "    # This sets reasonable defaults for font size for a figure that will go in a paper\n",
    "    sns.set_context(\"paper\")\n",
    "    \n",
    "    # Set the font to be serif, rather than sans\n",
    "    sns.set(font='serif')\n",
    "    \n",
    "    # Make the background white, and specify the specific font family\n",
    "    sns.set_style(\"white\", {\n",
    "        \"font.family\": \"serif\",\n",
    "        \"font.serif\": [\"Times\", \"Palatino\", \"serif\"]\n",
    "    })\n",
    "set_style()"
   ]
  },
  {
   "cell_type": "code",
   "execution_count": 2,
   "metadata": {},
   "outputs": [
    {
     "data": {
      "text/html": [
       "<style  type=\"text/css\" >\n",
       "</style><table id=\"T_db70b24e_28b2_11ea_9947_6045cb9bc3c7\" ><thead>    <tr>        <th class=\"blank level0\" ></th>        <th class=\"col_heading level0 col0\" >BscStartDate</th>        <th class=\"col_heading level0 col1\" >Asset</th>        <th class=\"col_heading level0 col2\" >OriginalShorttext</th>        <th class=\"col_heading level0 col3\" >PMType</th>        <th class=\"col_heading level0 col4\" >Cost</th>    </tr></thead><tbody>\n",
       "                <tr>\n",
       "                        <th id=\"T_db70b24e_28b2_11ea_9947_6045cb9bc3c7level0_row0\" class=\"row_heading level0 row0\" >0</th>\n",
       "                        <td id=\"T_db70b24e_28b2_11ea_9947_6045cb9bc3c7row0_col0\" class=\"data row0 col0\" >2004-07-01 00:00:00</td>\n",
       "                        <td id=\"T_db70b24e_28b2_11ea_9947_6045cb9bc3c7row0_col1\" class=\"data row0 col1\" >A</td>\n",
       "                        <td id=\"T_db70b24e_28b2_11ea_9947_6045cb9bc3c7row0_col2\" class=\"data row0 col2\" >BUCKET WON'T OPEN</td>\n",
       "                        <td id=\"T_db70b24e_28b2_11ea_9947_6045cb9bc3c7row0_col3\" class=\"data row0 col3\" >PM01</td>\n",
       "                        <td id=\"T_db70b24e_28b2_11ea_9947_6045cb9bc3c7row0_col4\" class=\"data row0 col4\" >183.05</td>\n",
       "            </tr>\n",
       "            <tr>\n",
       "                        <th id=\"T_db70b24e_28b2_11ea_9947_6045cb9bc3c7level0_row1\" class=\"row_heading level0 row1\" >1</th>\n",
       "                        <td id=\"T_db70b24e_28b2_11ea_9947_6045cb9bc3c7row1_col0\" class=\"data row1 col0\" >2005-03-20 00:00:00</td>\n",
       "                        <td id=\"T_db70b24e_28b2_11ea_9947_6045cb9bc3c7row1_col1\" class=\"data row1 col1\" >A</td>\n",
       "                        <td id=\"T_db70b24e_28b2_11ea_9947_6045cb9bc3c7row1_col2\" class=\"data row1 col2\" >L/H BUCKET CYL LEAKING.</td>\n",
       "                        <td id=\"T_db70b24e_28b2_11ea_9947_6045cb9bc3c7row1_col3\" class=\"data row1 col3\" >PM01</td>\n",
       "                        <td id=\"T_db70b24e_28b2_11ea_9947_6045cb9bc3c7row1_col4\" class=\"data row1 col4\" >407.4</td>\n",
       "            </tr>\n",
       "            <tr>\n",
       "                        <th id=\"T_db70b24e_28b2_11ea_9947_6045cb9bc3c7level0_row2\" class=\"row_heading level0 row2\" >2</th>\n",
       "                        <td id=\"T_db70b24e_28b2_11ea_9947_6045cb9bc3c7row2_col0\" class=\"data row2 col0\" >2006-05-05 00:00:00</td>\n",
       "                        <td id=\"T_db70b24e_28b2_11ea_9947_6045cb9bc3c7row2_col1\" class=\"data row2 col1\" >A</td>\n",
       "                        <td id=\"T_db70b24e_28b2_11ea_9947_6045cb9bc3c7row2_col2\" class=\"data row2 col2\" >SWAP BUCKET</td>\n",
       "                        <td id=\"T_db70b24e_28b2_11ea_9947_6045cb9bc3c7row2_col3\" class=\"data row2 col3\" >PM01</td>\n",
       "                        <td id=\"T_db70b24e_28b2_11ea_9947_6045cb9bc3c7row2_col4\" class=\"data row2 col4\" >0</td>\n",
       "            </tr>\n",
       "            <tr>\n",
       "                        <th id=\"T_db70b24e_28b2_11ea_9947_6045cb9bc3c7level0_row3\" class=\"row_heading level0 row3\" >3</th>\n",
       "                        <td id=\"T_db70b24e_28b2_11ea_9947_6045cb9bc3c7row3_col0\" class=\"data row3 col0\" >2006-07-11 00:00:00</td>\n",
       "                        <td id=\"T_db70b24e_28b2_11ea_9947_6045cb9bc3c7row3_col1\" class=\"data row3 col1\" >A</td>\n",
       "                        <td id=\"T_db70b24e_28b2_11ea_9947_6045cb9bc3c7row3_col2\" class=\"data row3 col2\" >FIT BUCKET TOOTH</td>\n",
       "                        <td id=\"T_db70b24e_28b2_11ea_9947_6045cb9bc3c7row3_col3\" class=\"data row3 col3\" >PM01</td>\n",
       "                        <td id=\"T_db70b24e_28b2_11ea_9947_6045cb9bc3c7row3_col4\" class=\"data row3 col4\" >0</td>\n",
       "            </tr>\n",
       "            <tr>\n",
       "                        <th id=\"T_db70b24e_28b2_11ea_9947_6045cb9bc3c7level0_row4\" class=\"row_heading level0 row4\" >4</th>\n",
       "                        <td id=\"T_db70b24e_28b2_11ea_9947_6045cb9bc3c7row4_col0\" class=\"data row4 col0\" >2006-11-10 00:00:00</td>\n",
       "                        <td id=\"T_db70b24e_28b2_11ea_9947_6045cb9bc3c7row4_col1\" class=\"data row4 col1\" >A</td>\n",
       "                        <td id=\"T_db70b24e_28b2_11ea_9947_6045cb9bc3c7row4_col2\" class=\"data row4 col2\" >REFIT BUCKET TOOTH</td>\n",
       "                        <td id=\"T_db70b24e_28b2_11ea_9947_6045cb9bc3c7row4_col3\" class=\"data row4 col3\" >PM01</td>\n",
       "                        <td id=\"T_db70b24e_28b2_11ea_9947_6045cb9bc3c7row4_col4\" class=\"data row4 col4\" >1157.27</td>\n",
       "            </tr>\n",
       "    </tbody></table>"
      ],
      "text/plain": [
       "<pandas.io.formats.style.Styler at 0x7fef1cbf39b0>"
      ]
     },
     "execution_count": 2,
     "metadata": {},
     "output_type": "execute_result"
    }
   ],
   "source": [
    "df = dat.load_excavators()\n",
    "df.head().style"
   ]
  },
  {
   "cell_type": "markdown",
   "metadata": {},
   "source": [
    "## Knowledge Extraction"
   ]
  },
  {
   "cell_type": "markdown",
   "metadata": {},
   "source": [
    "### Import vocabulary from tagging tool"
   ]
  },
  {
   "cell_type": "code",
   "execution_count": 3,
   "metadata": {},
   "outputs": [],
   "source": [
    "# merge and cleanse NLP-containing columns of the data\n",
    "nlp_select = kex.NLPSelect(columns = ['OriginalShorttext'])\n",
    "raw_text = nlp_select.transform(df)"
   ]
  },
  {
   "cell_type": "code",
   "execution_count": 4,
   "metadata": {
    "code_folding": []
   },
   "outputs": [
    {
     "data": {
      "application/vnd.jupyter.widget-view+json": {
       "model_id": "12eb799377364ef8a761c71b242e4a7b",
       "version_major": 2,
       "version_minor": 0
      },
      "text/plain": [
       "HBox(children=(IntProgress(value=0, max=6), HTML(value='')))"
      ]
     },
     "metadata": {},
     "output_type": "display_data"
    },
    {
     "name": "stdout",
     "output_type": "stream",
     "text": [
      "\n"
     ]
    }
   ],
   "source": [
    "tex = kex.TokenExtractor()\n",
    "toks = tex.fit_transform(raw_text)\n",
    "\n",
    "#Import vocabulary\n",
    "vocab_path = Path('.')/'support'/'mine_vocab_1g.csv'\n",
    "vocab = kex.generate_vocabulary_df(tex, init=vocab_path)\n",
    "tag_df = kex.tag_extractor(tex, raw_text, vocab_df=vocab)\n",
    "\n",
    "relation_df = tag_df.loc[:, ['P I', 'S I']]\n",
    "tags_read = kex._get_readable_tag_df(tag_df)\n",
    "tag_df = tag_df.loc[:, ['I', 'P', 'S', 'U', 'X', 'NA']]    "
   ]
  },
  {
   "cell_type": "markdown",
   "metadata": {
    "slideshow": {
     "slide_type": "subslide"
    }
   },
   "source": [
    "### Quality of Extracted Keywords"
   ]
  },
  {
   "cell_type": "code",
   "execution_count": 5,
   "metadata": {
    "hide_input": false
   },
   "outputs": [
    {
     "name": "stdout",
     "output_type": "stream",
     "text": [
      "Docs have at most 5 tokens (90th percentile)\n"
     ]
    }
   ],
   "source": [
    "nbins = int(np.percentile(tag_df.sum(axis=1), 90))\n",
    "print(f'Docs have at most {nbins} tokens (90th percentile)')\n"
   ]
  },
  {
   "cell_type": "code",
   "execution_count": 6,
   "metadata": {},
   "outputs": [
    {
     "data": {
      "text/html": [
       "<div>\n",
       "<style scoped>\n",
       "    .dataframe tbody tr th:only-of-type {\n",
       "        vertical-align: middle;\n",
       "    }\n",
       "\n",
       "    .dataframe tbody tr th {\n",
       "        vertical-align: top;\n",
       "    }\n",
       "\n",
       "    .dataframe thead th {\n",
       "        text-align: right;\n",
       "    }\n",
       "</style>\n",
       "<table border=\"1\" class=\"dataframe\">\n",
       "  <thead>\n",
       "    <tr style=\"text-align: right;\">\n",
       "      <th></th>\n",
       "      <th>I</th>\n",
       "      <th>NA</th>\n",
       "      <th>P</th>\n",
       "      <th>S</th>\n",
       "      <th>U</th>\n",
       "      <th>X</th>\n",
       "      <th>OriginalShorttext</th>\n",
       "    </tr>\n",
       "  </thead>\n",
       "  <tbody>\n",
       "    <tr>\n",
       "      <th>632</th>\n",
       "      <td>engine</td>\n",
       "      <td></td>\n",
       "      <td>overheating</td>\n",
       "      <td></td>\n",
       "      <td></td>\n",
       "      <td></td>\n",
       "      <td>ENGINE OVERHEATING</td>\n",
       "    </tr>\n",
       "    <tr>\n",
       "      <th>631</th>\n",
       "      <td>engine, oil, pressure, right_hand</td>\n",
       "      <td></td>\n",
       "      <td>alarm</td>\n",
       "      <td></td>\n",
       "      <td>low</td>\n",
       "      <td></td>\n",
       "      <td>LOW RH ENGINE OIL PRESSURE ALARM</td>\n",
       "    </tr>\n",
       "    <tr>\n",
       "      <th>4661</th>\n",
       "      <td>wiper</td>\n",
       "      <td></td>\n",
       "      <td>emergency</td>\n",
       "      <td>repair</td>\n",
       "      <td></td>\n",
       "      <td></td>\n",
       "      <td>Repair Wiper - tied back with a rag.EMER</td>\n",
       "    </tr>\n",
       "    <tr>\n",
       "      <th>1831</th>\n",
       "      <td>oil, track</td>\n",
       "      <td></td>\n",
       "      <td>leak</td>\n",
       "      <td></td>\n",
       "      <td>adjuster</td>\n",
       "      <td></td>\n",
       "      <td>oil leak on track adjuster</td>\n",
       "    </tr>\n",
       "    <tr>\n",
       "      <th>3087</th>\n",
       "      <td>grease</td>\n",
       "      <td></td>\n",
       "      <td>problem</td>\n",
       "      <td></td>\n",
       "      <td></td>\n",
       "      <td></td>\n",
       "      <td>grease fill problems</td>\n",
       "    </tr>\n",
       "    <tr>\n",
       "      <th>4870</th>\n",
       "      <td>frame, plate, safety, track</td>\n",
       "      <td></td>\n",
       "      <td></td>\n",
       "      <td>install</td>\n",
       "      <td></td>\n",
       "      <td></td>\n",
       "      <td>INSTALL TRACK FRAME SAFETY I.D. PLATE</td>\n",
       "    </tr>\n",
       "    <tr>\n",
       "      <th>3945</th>\n",
       "      <td>boom, oil</td>\n",
       "      <td></td>\n",
       "      <td>leak</td>\n",
       "      <td>repair</td>\n",
       "      <td></td>\n",
       "      <td></td>\n",
       "      <td>REPAIR OIL LEAK UP BOOM</td>\n",
       "    </tr>\n",
       "    <tr>\n",
       "      <th>158</th>\n",
       "      <td>assy, bucket</td>\n",
       "      <td></td>\n",
       "      <td></td>\n",
       "      <td>changeout</td>\n",
       "      <td></td>\n",
       "      <td></td>\n",
       "      <td>CHANGEOUT ~ BUCKET ASSEMBLY</td>\n",
       "    </tr>\n",
       "    <tr>\n",
       "      <th>366</th>\n",
       "      <td>bucket, rock, shd, tooth</td>\n",
       "      <td></td>\n",
       "      <td></td>\n",
       "      <td>changeout</td>\n",
       "      <td></td>\n",
       "      <td></td>\n",
       "      <td>Change bucket teeth on SHD24 rock bucket</td>\n",
       "    </tr>\n",
       "    <tr>\n",
       "      <th>1634</th>\n",
       "      <td>filter, hose</td>\n",
       "      <td></td>\n",
       "      <td>restriction</td>\n",
       "      <td>replace</td>\n",
       "      <td></td>\n",
       "      <td></td>\n",
       "      <td>Replace filter restriction hose</td>\n",
       "    </tr>\n",
       "  </tbody>\n",
       "</table>\n",
       "</div>"
      ],
      "text/plain": [
       "                                      I NA            P          S         U  \\\n",
       "632                              engine     overheating                        \n",
       "631   engine, oil, pressure, right_hand           alarm                  low   \n",
       "4661                              wiper       emergency     repair             \n",
       "1831                         oil, track            leak             adjuster   \n",
       "3087                             grease         problem                        \n",
       "4870        frame, plate, safety, track                    install             \n",
       "3945                          boom, oil            leak     repair             \n",
       "158                        assy, bucket                  changeout             \n",
       "366            bucket, rock, shd, tooth                  changeout             \n",
       "1634                       filter, hose     restriction    replace             \n",
       "\n",
       "     X                         OriginalShorttext  \n",
       "632                           ENGINE OVERHEATING  \n",
       "631             LOW RH ENGINE OIL PRESSURE ALARM  \n",
       "4661    Repair Wiper - tied back with a rag.EMER  \n",
       "1831                  oil leak on track adjuster  \n",
       "3087                        grease fill problems  \n",
       "4870       INSTALL TRACK FRAME SAFETY I.D. PLATE  \n",
       "3945                     REPAIR OIL LEAK UP BOOM  \n",
       "158                  CHANGEOUT ~ BUCKET ASSEMBLY  \n",
       "366     Change bucket teeth on SHD24 rock bucket  \n",
       "1634             Replace filter restriction hose  "
      ]
     },
     "execution_count": 6,
     "metadata": {},
     "output_type": "execute_result"
    }
   ],
   "source": [
    "tags_read.join(df[['OriginalShorttext']]).sample(10)"
   ]
  },
  {
   "cell_type": "code",
   "execution_count": 7,
   "metadata": {
    "cell_style": "center",
    "hide_input": false,
    "scrolled": false,
    "slideshow": {
     "slide_type": "-"
    }
   },
   "outputs": [
    {
     "name": "stdout",
     "output_type": "stream",
     "text": [
      "named entities: \n",
      "I\tItem\n",
      "P\tProblem\n",
      "S\tSolution\n",
      "U\tUnknown\n",
      "X\tStop Word\n",
      "total tokens:  1767\n",
      "total tags:  492\n"
     ]
    },
    {
     "data": {
      "text/html": [
       "<div>\n",
       "<style scoped>\n",
       "    .dataframe tbody tr th:only-of-type {\n",
       "        vertical-align: middle;\n",
       "    }\n",
       "\n",
       "    .dataframe tbody tr th {\n",
       "        vertical-align: top;\n",
       "    }\n",
       "\n",
       "    .dataframe thead th {\n",
       "        text-align: right;\n",
       "    }\n",
       "</style>\n",
       "<table border=\"1\" class=\"dataframe\">\n",
       "  <thead>\n",
       "    <tr style=\"text-align: right;\">\n",
       "      <th></th>\n",
       "      <th>NE</th>\n",
       "      <th>alias</th>\n",
       "      <th>notes</th>\n",
       "      <th>score</th>\n",
       "    </tr>\n",
       "    <tr>\n",
       "      <th>NE</th>\n",
       "      <th></th>\n",
       "      <th></th>\n",
       "      <th></th>\n",
       "      <th></th>\n",
       "    </tr>\n",
       "  </thead>\n",
       "  <tbody>\n",
       "    <tr>\n",
       "      <th></th>\n",
       "      <td>1</td>\n",
       "      <td>3</td>\n",
       "      <td>2</td>\n",
       "      <td>766</td>\n",
       "    </tr>\n",
       "    <tr>\n",
       "      <th>I</th>\n",
       "      <td>1</td>\n",
       "      <td>317</td>\n",
       "      <td>19</td>\n",
       "      <td>585</td>\n",
       "    </tr>\n",
       "    <tr>\n",
       "      <th>P</th>\n",
       "      <td>1</td>\n",
       "      <td>53</td>\n",
       "      <td>6</td>\n",
       "      <td>119</td>\n",
       "    </tr>\n",
       "    <tr>\n",
       "      <th>S</th>\n",
       "      <td>1</td>\n",
       "      <td>42</td>\n",
       "      <td>2</td>\n",
       "      <td>95</td>\n",
       "    </tr>\n",
       "    <tr>\n",
       "      <th>U</th>\n",
       "      <td>1</td>\n",
       "      <td>68</td>\n",
       "      <td>57</td>\n",
       "      <td>92</td>\n",
       "    </tr>\n",
       "    <tr>\n",
       "      <th>X</th>\n",
       "      <td>1</td>\n",
       "      <td>9</td>\n",
       "      <td>1</td>\n",
       "      <td>9</td>\n",
       "    </tr>\n",
       "  </tbody>\n",
       "</table>\n",
       "</div>"
      ],
      "text/plain": [
       "    NE  alias  notes  score\n",
       "NE                         \n",
       "     1      3      2    766\n",
       "I    1    317     19    585\n",
       "P    1     53      6    119\n",
       "S    1     42      2     95\n",
       "U    1     68     57     92\n",
       "X    1      9      1      9"
      ]
     },
     "execution_count": 7,
     "metadata": {},
     "output_type": "execute_result"
    }
   ],
   "source": [
    "# how many instances of each keyword class are there?\n",
    "print('named entities: ')\n",
    "print('I\\tItem\\nP\\tProblem\\nS\\tSolution')\n",
    "print('U\\tUnknown\\nX\\tStop Word')\n",
    "print('total tokens: ', vocab.NE.notna().sum())\n",
    "print('total tags: ', vocab.groupby(\"NE\").nunique().alias.sum())\n",
    "vocab.groupby(\"NE\").nunique()"
   ]
  },
  {
   "cell_type": "markdown",
   "metadata": {},
   "source": [
    "### Effectiveness of Tags\n",
    "\n",
    "The entire goal, in some sense, is for us to remove low-occurence, unimportant information from our data, and form concept conglomerates that allow more useful statistical inferences to be made. Tags from `nestor-gui`, as the next plot shows, have no instances of 1x-occurrence concepts, compared to several thousand in the raw-tokens (this is by design, of course). Additionally, high occurence concepts that might have had misspellings or synonyms drastically inprove their average occurence rate. "
   ]
  },
  {
   "cell_type": "code",
   "execution_count": 9,
   "metadata": {},
   "outputs": [
    {
     "data": {
      "image/png": "[encoded data removed]",
      "text/plain": [
       "<Figure size 432x288 with 1 Axes>"
      ]
     },
     "metadata": {
      "needs_background": "light"
     },
     "output_type": "display_data"
    }
   ],
   "source": [
    "\n",
    "cts = (tex._model.transform(raw_text)>0.).astype(int).toarray().sum(axis=0)\n",
    "# cts2 = (tex3._model.transform(replaced_text2)>0.).astype(int).toarray().sum(axis=0)\n",
    "\n",
    "sns.distplot(cts,\n",
    "#              np.concatenate((cts, cts2)), \n",
    "             bins=np.logspace(0,3,10),\n",
    "#              bins=np.linspace(0,1500,10),\n",
    "             norm_hist=False, \n",
    "             kde=False, \n",
    "             label='Token Freqencies',\n",
    "             hist_kws={'color':'grey'})\n",
    "# cts\n",
    "sns.distplot(tag_df[['I', 'P', 'S']].sum(), \n",
    "             bins=np.logspace(0,3,10),\n",
    "#              bins=np.linspace(0,1500,10),\n",
    "             norm_hist=False, \n",
    "             kde=False, \n",
    "             label='Tag Freqencies', \n",
    "             hist_kws={'hatch':'///', 'color':'dodgerblue'})\n",
    "\n",
    "plt.yscale('log')\n",
    "plt.xscale('log')\n",
    "tag_df.sum().shape, cts.shape\n",
    "plt.legend()\n",
    "plt.xlabel('Tag/Token Frequencies')\n",
    "plt.ylabel('# Instances')\n",
    "sns.despine()\n",
    "# plt.savefig('toks_v_tags.png', dpi=300)"
   ]
  },
  {
   "cell_type": "code",
   "execution_count": 10,
   "metadata": {
    "cell_style": "center",
    "hide_input": false,
    "scrolled": false,
    "slideshow": {
     "slide_type": "-"
    }
   },
   "outputs": [
    {
     "name": "stdout",
     "output_type": "stream",
     "text": [
      "Tag completeness: 0.87 +/- 0.20\n",
      "Complete Docs: 4444, or 81.02%\n",
      "Empty Docs: 48, or 0.88%\n"
     ]
    },
    {
     "data": {
      "text/plain": [
       "Text(0.5, 0, 'precision (PPV)')"
      ]
     },
     "execution_count": 10,
     "metadata": {},
     "output_type": "execute_result"
    },
    {
     "data": {
      "image/png": "[encoded data removed]",
      "text/plain": [
       "<Figure size 432x288 with 1 Axes>"
      ]
     },
     "metadata": {
      "needs_background": "light"
     },
     "output_type": "display_data"
    }
   ],
   "source": [
    "# tag-completeness of work-orders?\n",
    "tag_pct, tag_comp, tag_empt = kex.get_tag_completeness(tag_df)\n",
    "\n",
    "# with sns.axes_style('ticks') as style:\n",
    "sns.distplot(tag_pct.dropna(), \n",
    "             kde=False, bins=nbins, \n",
    "             kde_kws={'cut':0})\n",
    "plt.xlim(0.1, 1.0)\n",
    "plt.xlabel('precision (PPV)')\n"
   ]
  },
  {
   "cell_type": "markdown",
   "metadata": {},
   "source": [
    "### Convergence over time, using `nestor-gui`\n",
    "\n",
    "As part of the comparison study, an expert used `nestor-gui` for approximately 60min annotating 1-grams, followed by 20min focusing on 2-grams. Work was saved every 10 min, so we would like to see how the above plot was arrived at *as the tokens were classified*. "
   ]
  },
  {
   "cell_type": "code",
   "execution_count": 11,
   "metadata": {},
   "outputs": [
    {
     "data": {
      "image/png": "[encoded data removed]",
      "text/plain": [
       "<Figure size 345.6x288 with 6 Axes>"
      ]
     },
     "metadata": {},
     "output_type": "display_data"
    }
   ],
   "source": [
    "study_fname = Path('.')/'support'/'vocab_study_results.csv'\n",
    "study_df = pd.read_csv(study_fname, index_col=0)\n",
    "study_long = pd.melt(study_df, var_name=\"time\", value_name='PPV').dropna()\n",
    "study_long['time_val'] = study_long.time.str.replace('min','').astype(float)\n",
    "\n",
    "sns.set(style=\"white\", rc={\"axes.facecolor\": (0, 0, 0, 0)}, context='paper')\n",
    "pal = sns.cubehelix_palette(6, rot=-.25, light=.7)\n",
    "g = sns.FacetGrid(study_long, col=\"time\", hue=\"time\", aspect=.8, height=2, palette=pal, col_wrap=3)\n",
    "g.map(sns.distplot, \"PPV\", kde=False, bins=nbins, vertical=True, \n",
    "      hist_kws=dict(alpha=1., histtype='stepfilled', edgecolor='w', lw=2))\n",
    "g.map(plt.axvline, x=0, lw=1.4, clip_on=False, color='k')\n",
    "\n",
    "# Define and use a simple function to label the plot in axes coordinates\n",
    "def label(x, color, label):\n",
    "    ax = plt.gca()\n",
    "    ax.text(.2, 0, label, fontweight=\"bold\", color=color,\n",
    "            ha=\"left\", va=\"center\", transform=ax.transAxes)\n",
    "g.map(label, \"PPV\")\n",
    "\n",
    "# Remove axes details that don't play well with overlap\n",
    "g.set_titles(\"\")\n",
    "g.set( xticks=[], xlabel='')\n",
    "g.set_axis_labels(y_var='PPV')\n",
    "g.despine(bottom=True, left=True)\n",
    "plt.tight_layout()"
   ]
  },
  {
   "cell_type": "markdown",
   "metadata": {},
   "source": [
    "\n",
    "## Survival Analysis"
   ]
  },
  {
   "cell_type": "markdown",
   "metadata": {},
   "source": [
    "### Rules-Based\n",
    "From Hodkeiwiz et al, a rule-based method was used to estimate failure times for SA. Let's see their data: "
   ]
  },
  {
   "cell_type": "code",
   "execution_count": 12,
   "metadata": {
    "scrolled": true
   },
   "outputs": [
    {
     "data": {
      "text/plain": [
       "(5288, 17)"
      ]
     },
     "execution_count": 12,
     "metadata": {},
     "output_type": "execute_result"
    }
   ],
   "source": [
    "\n",
    "df_clean = dat.load_excavators(cleaned=True)\n",
    "\n",
    "df_clean['SuspSugg'] = pd.to_numeric(df_clean['SuspSugg'], errors='coerce')\n",
    "df_clean.dropna(subset=['RunningTime', 'SuspSugg'], inplace=True)\n",
    "\n",
    "df_clean.shape"
   ]
  },
  {
   "cell_type": "code",
   "execution_count": 13,
   "metadata": {
    "scrolled": false
   },
   "outputs": [
    {
     "data": {
      "text/html": [
       "<div>\n",
       "<style scoped>\n",
       "    .dataframe tbody tr th:only-of-type {\n",
       "        vertical-align: middle;\n",
       "    }\n",
       "\n",
       "    .dataframe tbody tr th {\n",
       "        vertical-align: top;\n",
       "    }\n",
       "\n",
       "    .dataframe thead th {\n",
       "        text-align: right;\n",
       "    }\n",
       "</style>\n",
       "<table border=\"1\" class=\"dataframe\">\n",
       "  <thead>\n",
       "    <tr style=\"text-align: right;\">\n",
       "      <th></th>\n",
       "      <th>BscStartDate</th>\n",
       "      <th>Asset</th>\n",
       "      <th>OriginalShorttext</th>\n",
       "      <th>PMType</th>\n",
       "      <th>Cost</th>\n",
       "      <th>RunningTime</th>\n",
       "      <th>MajorSystem</th>\n",
       "      <th>Part</th>\n",
       "      <th>Action</th>\n",
       "      <th>Variant</th>\n",
       "      <th>FM</th>\n",
       "      <th>Location</th>\n",
       "      <th>Comments</th>\n",
       "      <th>FuncLocation</th>\n",
       "      <th>SuspSugg</th>\n",
       "      <th>Rule</th>\n",
       "      <th>Unnamed: 16</th>\n",
       "    </tr>\n",
       "  </thead>\n",
       "  <tbody>\n",
       "    <tr>\n",
       "      <th>8</th>\n",
       "      <td>2001-07-19</td>\n",
       "      <td>B</td>\n",
       "      <td>REPLACE LIP</td>\n",
       "      <td>PM01</td>\n",
       "      <td>1251.52</td>\n",
       "      <td>7.0</td>\n",
       "      <td>Bucket</td>\n",
       "      <td>NaN</td>\n",
       "      <td>Replace</td>\n",
       "      <td>2V</td>\n",
       "      <td>NaN</td>\n",
       "      <td>NaN</td>\n",
       "      <td>NaN</td>\n",
       "      <td>Bucket</td>\n",
       "      <td>0.0</td>\n",
       "      <td>Rule_1_3_78_383_384</td>\n",
       "      <td>NaN</td>\n",
       "    </tr>\n",
       "    <tr>\n",
       "      <th>1820</th>\n",
       "      <td>2001-09-01</td>\n",
       "      <td>B</td>\n",
       "      <td>OIL LEAK L/H TRACK TENSIONER.</td>\n",
       "      <td>PM01</td>\n",
       "      <td>0.00</td>\n",
       "      <td>3.0</td>\n",
       "      <td>Hydraulic System</td>\n",
       "      <td>Track</td>\n",
       "      <td>Minor Maint</td>\n",
       "      <td>18</td>\n",
       "      <td>Leak</td>\n",
       "      <td>Left</td>\n",
       "      <td>NaN</td>\n",
       "      <td>Power Train - Transmission</td>\n",
       "      <td>0.0</td>\n",
       "      <td>Rule_1_3_52_289_347_425_500</td>\n",
       "      <td>NaN</td>\n",
       "    </tr>\n",
       "    <tr>\n",
       "      <th>1821</th>\n",
       "      <td>2001-09-04</td>\n",
       "      <td>B</td>\n",
       "      <td>BAD SOS METAL IN OIL</td>\n",
       "      <td>PM01</td>\n",
       "      <td>0.00</td>\n",
       "      <td>3.0</td>\n",
       "      <td>Hydraulic System</td>\n",
       "      <td>Slew Gearbox</td>\n",
       "      <td>NaN</td>\n",
       "      <td>NaN</td>\n",
       "      <td>Contamination</td>\n",
       "      <td>NaN</td>\n",
       "      <td>NaN</td>\n",
       "      <td>Sprocket/Drive Compartment Right</td>\n",
       "      <td>0.0</td>\n",
       "      <td>Rule_1_3_52_303_409</td>\n",
       "      <td>NaN</td>\n",
       "    </tr>\n",
       "    <tr>\n",
       "      <th>5253</th>\n",
       "      <td>2001-09-05</td>\n",
       "      <td>B</td>\n",
       "      <td>REPLACE AIRCONDITIONER BELTS</td>\n",
       "      <td>PM01</td>\n",
       "      <td>0.00</td>\n",
       "      <td>23.0</td>\n",
       "      <td>NaN</td>\n",
       "      <td>Air Conditioning</td>\n",
       "      <td>Replace</td>\n",
       "      <td>2V</td>\n",
       "      <td>NaN</td>\n",
       "      <td>NaN</td>\n",
       "      <td>NaN</td>\n",
       "      <td>Air Conditioning System</td>\n",
       "      <td>0.0</td>\n",
       "      <td>Rule_1_3_224_227_383_384</td>\n",
       "      <td>NaN</td>\n",
       "    </tr>\n",
       "    <tr>\n",
       "      <th>3701</th>\n",
       "      <td>2001-09-05</td>\n",
       "      <td>B</td>\n",
       "      <td>REPLACE CLAMPS ON CLAM PIPES</td>\n",
       "      <td>PM01</td>\n",
       "      <td>0.00</td>\n",
       "      <td>28.0</td>\n",
       "      <td>NaN</td>\n",
       "      <td>Mount</td>\n",
       "      <td>Replace</td>\n",
       "      <td>2V</td>\n",
       "      <td>NaN</td>\n",
       "      <td>NaN</td>\n",
       "      <td>NaN</td>\n",
       "      <td>Oil - Hydraulic</td>\n",
       "      <td>0.0</td>\n",
       "      <td>Rule_1_3_92_181_383_384</td>\n",
       "      <td>NaN</td>\n",
       "    </tr>\n",
       "    <tr>\n",
       "      <th>1167</th>\n",
       "      <td>2001-09-05</td>\n",
       "      <td>B</td>\n",
       "      <td>REPLACE RHS FAN BELT TENSIONER PULLEY</td>\n",
       "      <td>PM01</td>\n",
       "      <td>82.09</td>\n",
       "      <td>0.0</td>\n",
       "      <td>NaN</td>\n",
       "      <td>Fan</td>\n",
       "      <td>Minor Maint_Replace</td>\n",
       "      <td>2V</td>\n",
       "      <td>NaN</td>\n",
       "      <td>Right</td>\n",
       "      <td>NaN</td>\n",
       "      <td>+Cooling System</td>\n",
       "      <td>0.0</td>\n",
       "      <td>Rule_1_3_125_347_383_384_509</td>\n",
       "      <td>NaN</td>\n",
       "    </tr>\n",
       "    <tr>\n",
       "      <th>1168</th>\n",
       "      <td>2001-09-11</td>\n",
       "      <td>B</td>\n",
       "      <td>replace fan belt</td>\n",
       "      <td>PM01</td>\n",
       "      <td>0.00</td>\n",
       "      <td>6.0</td>\n",
       "      <td>NaN</td>\n",
       "      <td>Fan</td>\n",
       "      <td>Replace</td>\n",
       "      <td>2V</td>\n",
       "      <td>NaN</td>\n",
       "      <td>NaN</td>\n",
       "      <td>NaN</td>\n",
       "      <td>+Cooling System</td>\n",
       "      <td>0.0</td>\n",
       "      <td>Rule_1_3_125_383_384</td>\n",
       "      <td>NaN</td>\n",
       "    </tr>\n",
       "    <tr>\n",
       "      <th>644</th>\n",
       "      <td>2001-09-15</td>\n",
       "      <td>B</td>\n",
       "      <td>replace heads on lhs eng</td>\n",
       "      <td>PM01</td>\n",
       "      <td>0.00</td>\n",
       "      <td>33.0</td>\n",
       "      <td>Engine</td>\n",
       "      <td>NaN</td>\n",
       "      <td>Replace</td>\n",
       "      <td>2V</td>\n",
       "      <td>NaN</td>\n",
       "      <td>Left</td>\n",
       "      <td>NaN</td>\n",
       "      <td>Engine Left Cylinder Heads</td>\n",
       "      <td>0.0</td>\n",
       "      <td>Rule_1_3_25_383_384_499</td>\n",
       "      <td>NaN</td>\n",
       "    </tr>\n",
       "    <tr>\n",
       "      <th>4583</th>\n",
       "      <td>2001-09-26</td>\n",
       "      <td>B</td>\n",
       "      <td>REPAIR CABIN DOOR FALLING OFF.</td>\n",
       "      <td>PM01</td>\n",
       "      <td>0.00</td>\n",
       "      <td>27.0</td>\n",
       "      <td>NaN</td>\n",
       "      <td>Drivers Cabin</td>\n",
       "      <td>Repair</td>\n",
       "      <td>1</td>\n",
       "      <td>NaN</td>\n",
       "      <td>NaN</td>\n",
       "      <td>NaN</td>\n",
       "      <td>Operators Cabin</td>\n",
       "      <td>0.0</td>\n",
       "      <td>Rule_1_3_251_284_357</td>\n",
       "      <td>NaN</td>\n",
       "    </tr>\n",
       "    <tr>\n",
       "      <th>9</th>\n",
       "      <td>2001-10-01</td>\n",
       "      <td>B</td>\n",
       "      <td>rebuild lip #3</td>\n",
       "      <td>PM01</td>\n",
       "      <td>0.00</td>\n",
       "      <td>74.0</td>\n",
       "      <td>Bucket</td>\n",
       "      <td>NaN</td>\n",
       "      <td>Repair</td>\n",
       "      <td>5</td>\n",
       "      <td>NaN</td>\n",
       "      <td>NaN</td>\n",
       "      <td>NaN</td>\n",
       "      <td>Bucket Clam (Lip)</td>\n",
       "      <td>0.0</td>\n",
       "      <td>Rule_1_3_78_362</td>\n",
       "      <td>NaN</td>\n",
       "    </tr>\n",
       "  </tbody>\n",
       "</table>\n",
       "</div>"
      ],
      "text/plain": [
       "     BscStartDate Asset                      OriginalShorttext PMType  \\\n",
       "8      2001-07-19     B                            REPLACE LIP   PM01   \n",
       "1820   2001-09-01     B          OIL LEAK L/H TRACK TENSIONER.   PM01   \n",
       "1821   2001-09-04     B                   BAD SOS METAL IN OIL   PM01   \n",
       "5253   2001-09-05     B           REPLACE AIRCONDITIONER BELTS   PM01   \n",
       "3701   2001-09-05     B           REPLACE CLAMPS ON CLAM PIPES   PM01   \n",
       "1167   2001-09-05     B  REPLACE RHS FAN BELT TENSIONER PULLEY   PM01   \n",
       "1168   2001-09-11     B                       replace fan belt   PM01   \n",
       "644    2001-09-15     B               replace heads on lhs eng   PM01   \n",
       "4583   2001-09-26     B         REPAIR CABIN DOOR FALLING OFF.   PM01   \n",
       "9      2001-10-01     B                         rebuild lip #3   PM01   \n",
       "\n",
       "         Cost  RunningTime       MajorSystem              Part  \\\n",
       "8     1251.52          7.0            Bucket               NaN   \n",
       "1820     0.00          3.0  Hydraulic System             Track   \n",
       "1821     0.00          3.0  Hydraulic System      Slew Gearbox   \n",
       "5253     0.00         23.0               NaN  Air Conditioning   \n",
       "3701     0.00         28.0               NaN             Mount   \n",
       "1167    82.09          0.0               NaN               Fan   \n",
       "1168     0.00          6.0               NaN               Fan   \n",
       "644      0.00         33.0            Engine               NaN   \n",
       "4583     0.00         27.0               NaN     Drivers Cabin   \n",
       "9        0.00         74.0            Bucket               NaN   \n",
       "\n",
       "                   Action Variant             FM Location Comments  \\\n",
       "8                 Replace      2V            NaN      NaN      NaN   \n",
       "1820          Minor Maint      18           Leak     Left      NaN   \n",
       "1821                  NaN     NaN  Contamination      NaN      NaN   \n",
       "5253              Replace      2V            NaN      NaN      NaN   \n",
       "3701              Replace      2V            NaN      NaN      NaN   \n",
       "1167  Minor Maint_Replace      2V            NaN    Right      NaN   \n",
       "1168              Replace      2V            NaN      NaN      NaN   \n",
       "644               Replace      2V            NaN     Left      NaN   \n",
       "4583               Repair       1            NaN      NaN      NaN   \n",
       "9                  Repair       5            NaN      NaN      NaN   \n",
       "\n",
       "                          FuncLocation  SuspSugg  \\\n",
       "8                               Bucket       0.0   \n",
       "1820        Power Train - Transmission       0.0   \n",
       "1821  Sprocket/Drive Compartment Right       0.0   \n",
       "5253           Air Conditioning System       0.0   \n",
       "3701                   Oil - Hydraulic       0.0   \n",
       "1167                   +Cooling System       0.0   \n",
       "1168                   +Cooling System       0.0   \n",
       "644         Engine Left Cylinder Heads       0.0   \n",
       "4583                   Operators Cabin       0.0   \n",
       "9                    Bucket Clam (Lip)       0.0   \n",
       "\n",
       "                              Rule Unnamed: 16  \n",
       "8              Rule_1_3_78_383_384         NaN  \n",
       "1820   Rule_1_3_52_289_347_425_500         NaN  \n",
       "1821           Rule_1_3_52_303_409         NaN  \n",
       "5253      Rule_1_3_224_227_383_384         NaN  \n",
       "3701       Rule_1_3_92_181_383_384         NaN  \n",
       "1167  Rule_1_3_125_347_383_384_509         NaN  \n",
       "1168          Rule_1_3_125_383_384         NaN  \n",
       "644        Rule_1_3_25_383_384_499         NaN  \n",
       "4583          Rule_1_3_251_284_357         NaN  \n",
       "9                  Rule_1_3_78_362         NaN  "
      ]
     },
     "execution_count": 13,
     "metadata": {},
     "output_type": "execute_result"
    }
   ],
   "source": [
    "df_clean.sort_values('BscStartDate').head(10)"
   ]
  },
  {
   "cell_type": "markdown",
   "metadata": {},
   "source": [
    "We once again turn to the library [Lifelines](https://lifelines.readthedocs.io/en/latest/) as the work-horse for finding the Survival function. "
   ]
  },
  {
   "cell_type": "code",
   "execution_count": 15,
   "metadata": {},
   "outputs": [
    {
     "name": "stdout",
     "output_type": "stream",
     "text": [
      "16.733 0.833\n",
      "transform: β=0.83\tη=0.06\n"
     ]
    },
    {
     "data": {
      "text/plain": [
       "lambda_       17±0.94\n",
       "rho_       0.83±0.026\n",
       "dtype: object"
      ]
     },
     "execution_count": 15,
     "metadata": {},
     "output_type": "execute_result"
    },
    {
     "data": {
      "image/png": "[encoded data removed]",
      "text/plain": [
       "<Figure size 432x288 with 1 Axes>"
      ]
     },
     "metadata": {},
     "output_type": "display_data"
    },
    {
     "data": {
      "image/png": "[encoded data removed]",
      "text/plain": [
       "<Figure size 432x288 with 1 Axes>"
      ]
     },
     "metadata": {},
     "output_type": "display_data"
    }
   ],
   "source": [
    "from lifelines import WeibullFitter, ExponentialFitter, KaplanMeierFitter\n",
    "mask = (df_clean.MajorSystem =='Bucket')\n",
    "# mask=df_clean.index\n",
    "def mask_to_ETclean(df_clean, mask, fill_null=1.):\n",
    "    filter_df = df_clean.loc[mask]\n",
    "    g = filter_df.sort_values('BscStartDate').groupby('Asset')\n",
    "    T = g['BscStartDate'].transform(pd.Series.diff).dt.days\n",
    "#     T.loc[(T<=0.)|(T.isna())] = fill_null\n",
    "    E = (~filter_df['SuspSugg'].astype(bool)).astype(int)\n",
    "    return T.loc[~((T<=0.)|(T.isna()))], E.loc[~((T<=0.)|(T.isna()))]\n",
    "\n",
    "T, E = mask_to_ETclean(df_clean, mask)\n",
    "wf = WeibullFitter()\n",
    "wf.fit(T, E, label='Rule-Based Weibull')\n",
    "print('{:.3f}'.format(wf.lambda_), '{:.3f}'.format(wf.rho_))\n",
    "# wf.print_summary()\n",
    "wf.hazard_.plot()\n",
    "plt.title('weibull hazard function')\n",
    "plt.xlim(0,110)\n",
    "\n",
    "wf.survival_function_.plot()\n",
    "plt.xlim(0,110)\n",
    "plt.title('weibull survival function')\n",
    "print(f'transform: β={wf.rho_:.2f}\\tη={1/wf.lambda_:.2f}')\n",
    "# wf._compute_standard_errors()\n",
    "to_bounds = lambda row:'±'.join([f'{i:.2g}' for i in row])\n",
    "wf.summary.iloc[:,:2].apply(to_bounds, 1)"
   ]
  },
  {
   "cell_type": "markdown",
   "metadata": {},
   "source": [
    "### Tag Based Comparison\n",
    "We estimate the occurence of failures with tag occurrences. "
   ]
  },
  {
   "cell_type": "code",
   "execution_count": 16,
   "metadata": {
    "code_folding": [
     3
    ]
   },
   "outputs": [],
   "source": [
    "import math\n",
    "\n",
    "\n",
    "def to_precision(x,p):\n",
    "    \"\"\"\n",
    "    returns a string representation of x formatted with a precision of p\n",
    "\n",
    "    Based on the webkit javascript implementation taken from here:\n",
    "    https://code.google.com/p/webkit-mirror/source/browse/JavaScriptCore/kjs/number_object.cpp\n",
    "    \"\"\"\n",
    "\n",
    "    x = float(x)\n",
    "\n",
    "    if x == 0.:\n",
    "        return \"0.\" + \"0\"*(p-1)\n",
    "\n",
    "    out = []\n",
    "\n",
    "    if x < 0:\n",
    "        out.append(\"-\")\n",
    "        x = -x\n",
    "\n",
    "    e = int(math.log10(x))\n",
    "    tens = math.pow(10, e - p + 1)\n",
    "    n = math.floor(x/tens)\n",
    "\n",
    "    if n < math.pow(10, p - 1):\n",
    "        e = e -1\n",
    "        tens = math.pow(10, e - p+1)\n",
    "        n = math.floor(x / tens)\n",
    "\n",
    "    if abs((n + 1.) * tens - x) <= abs(n * tens -x):\n",
    "        n = n + 1\n",
    "\n",
    "    if n >= math.pow(10,p):\n",
    "        n = n / 10.\n",
    "        e = e + 1\n",
    "\n",
    "    m = \"%.*g\" % (p, n)\n",
    "\n",
    "    if e < -2 or e >= p:\n",
    "        out.append(m[0])\n",
    "        if p > 1:\n",
    "            out.append(\".\")\n",
    "            out.extend(m[1:p])\n",
    "        out.append('e')\n",
    "        if e > 0:\n",
    "            out.append(\"+\")\n",
    "        out.append(str(e))\n",
    "    elif e == (p -1):\n",
    "        out.append(m)\n",
    "    elif e >= 0:\n",
    "        out.append(m[:e+1])\n",
    "        if e+1 < len(m):\n",
    "            out.append(\".\")\n",
    "            out.extend(m[e+1:])\n",
    "    else:\n",
    "        out.append(\"0.\")\n",
    "        out.extend([\"0\"]*-(e+1))\n",
    "        out.append(m)\n",
    "\n",
    "    return \"\".join(out)"
   ]
  },
  {
   "cell_type": "code",
   "execution_count": 19,
   "metadata": {
    "code_folding": [
     3
    ]
   },
   "outputs": [],
   "source": [
    "def query_experiment(name, df, df_clean, rule, tag, multi_tag, prnt=False):\n",
    "    \n",
    "    def mask_to_ETclean(df_clean, mask, fill_null=1.):\n",
    "        filter_df = df_clean.loc[mask]\n",
    "        g = filter_df.sort_values('BscStartDate').groupby('Asset')\n",
    "        T = g['BscStartDate'].transform(pd.Series.diff).dt.days\n",
    "        E = (~filter_df['SuspSugg'].astype(bool)).astype(int)\n",
    "        return T.loc[~((T<=0.)|(T.isna()))], E.loc[~((T<=0.)|(T.isna()))]\n",
    "    \n",
    "    def mask_to_ETraw(df_clean, mask, fill_null=1.):\n",
    "        filter_df = df_clean.loc[mask]\n",
    "        g = filter_df.sort_values('BscStartDate').groupby('Asset')\n",
    "        T = g['BscStartDate'].transform(pd.Series.diff).dt.days\n",
    "        T_defined = (T>0.)|T.notna()\n",
    "        T = T[T_defined]\n",
    "        # assume censored when parts replaced (changeout)\n",
    "        E = (~(tag_df.S.changeout>0)).astype(int)[mask]\n",
    "        E = E[T_defined]\n",
    "        return T.loc[~((T<=0.)|(T.isna()))], E.loc[~((T<=0.)|(T.isna()))]\n",
    "    \n",
    "    experiment = {\n",
    "        'rules-based': {\n",
    "            'query': rule,\n",
    "            'func': mask_to_ETclean,\n",
    "            'mask': (df_clean.MajorSystem == rule),\n",
    "            'data': df_clean\n",
    "        },\n",
    "        'single-tag': {\n",
    "            'query': tag,\n",
    "            'func': mask_to_ETraw,\n",
    "            'mask': tag_df.I[tag].sum(axis=1)>0,\n",
    "            'data': df\n",
    "        },\n",
    "        'multi-tag': {\n",
    "            'query': multi_tag,\n",
    "            'func': mask_to_ETraw,\n",
    "            'mask': tag_df.I[multi_tag].sum(axis=1)>0,\n",
    "            'data': df\n",
    "        }\n",
    "    }\n",
    "    results = {\n",
    "       ('query', 'text/tag'): [],\n",
    "#        ('Weibull Params', r'$\\lambda$'): [],\n",
    "       ('Weibull Params', r'$\\beta$'): [],\n",
    "       ('Weibull Params', '$\\eta$'): [],\n",
    "       ('MTTF', 'Weib.'): [],\n",
    "       ('MTTF', 'K-M'): []\n",
    "       }\n",
    "    idx = []\n",
    "    \n",
    "    for key, info in experiment.items():\n",
    "        idx += [key]\n",
    "        results[('query','text/tag')] += [info['query']]\n",
    "        if prnt:\n",
    "            print('{}: {}'.format(key, info['query']))\n",
    "        info['T'], info['E'] = info['func'](info['data'], info['mask'])\n",
    "        wf = WeibullFitter()\n",
    "        wf.fit(info['T'], info['E'], label=f'{key} weibull')\n",
    "        \n",
    "        to_bounds = lambda row:'$\\pm$'.join([to_precision(row[0],2),\n",
    "                                             to_precision(row[1],1)])\n",
    "        \n",
    "        params = wf.summary.T.iloc[:2]\n",
    "        params['eta_'] = [1/params.lambda_['coef'],  # err. propagation\n",
    "                          (params.lambda_['se(coef)']/params.lambda_['coef']**2)]\n",
    "        params = params.T.apply(to_bounds, 1)\n",
    "        \n",
    "        results[('Weibull Params', r'$\\eta$')] += [params['eta_']]\n",
    "        results[('Weibull Params', r'$\\beta$')] += [params['rho_']]\n",
    "        if prnt:                                     \n",
    "            print('\\tWeibull Params:\\n',\n",
    "                  '\\t\\tη = {}\\t'.format(params['eta_']), \n",
    "                  'β = {}'.format(params['rho_']))\n",
    "        \n",
    "        kmf = KaplanMeierFitter()\n",
    "        kmf.fit(info[\"T\"], event_observed=info['E'], label=f'{key} kaplan-meier')\n",
    "        results[('MTTF','Weib.')] += [to_precision(wf.median_survival_time_,3)]\n",
    "        results[('MTTF','K-M')] += [to_precision(kmf.median_survival_time_,3)]\n",
    "        if prnt:\n",
    "            print(f'\\tMTTF: \\n\\t\\tWeib \\t'+to_precision(wf.median_survival_time_,3)+\\\n",
    "                   '\\n\\t\\tKM \\t'+to_precision(kmf.median_survival_time_,3))\n",
    "        info['kmf'] = kmf\n",
    "        info['wf'] = wf\n",
    "    return experiment, pd.DataFrame(results, index=pd.Index(idx, name=name))"
   ]
  },
  {
   "cell_type": "code",
   "execution_count": 20,
   "metadata": {
    "scrolled": false
   },
   "outputs": [],
   "source": [
    "bucket_exp, bucket_res = query_experiment('Bucket', df, df_clean,\n",
    "                                          'Bucket',\n",
    "                                          ['bucket'],\n",
    "                                          ['bucket', 'tooth', 'lip', 'pin']);\n"
   ]
  },
  {
   "cell_type": "code",
   "execution_count": 21,
   "metadata": {},
   "outputs": [],
   "source": [
    "tags = ['hyd', 'hose', 'pump', 'compressor']\n",
    "hyd_exp, hyd_res = query_experiment('Hydraulic System', df, df_clean,\n",
    "                                    'Hydraulic System',\n",
    "                                    ['hyd'],\n",
    "                                    tags)"
   ]
  },
  {
   "cell_type": "code",
   "execution_count": 22,
   "metadata": {},
   "outputs": [],
   "source": [
    "eng_exp, eng_res = query_experiment('Engine', df, df_clean,\n",
    "                                    'Engine',\n",
    "                                    ['engine'],\n",
    "                                    ['engine', 'filter', 'fan'])"
   ]
  },
  {
   "cell_type": "code",
   "execution_count": 23,
   "metadata": {},
   "outputs": [
    {
     "data": {
      "text/html": [
       "<div>\n",
       "<style scoped>\n",
       "    .dataframe tbody tr th:only-of-type {\n",
       "        vertical-align: middle;\n",
       "    }\n",
       "\n",
       "    .dataframe tbody tr th {\n",
       "        vertical-align: top;\n",
       "    }\n",
       "\n",
       "    .dataframe thead tr th {\n",
       "        text-align: left;\n",
       "    }\n",
       "\n",
       "    .dataframe thead tr:last-of-type th {\n",
       "        text-align: right;\n",
       "    }\n",
       "</style>\n",
       "<table border=\"1\" class=\"dataframe\">\n",
       "  <thead>\n",
       "    <tr>\n",
       "      <th></th>\n",
       "      <th></th>\n",
       "      <th>query</th>\n",
       "      <th colspan=\"2\" halign=\"left\">Weibull Params</th>\n",
       "      <th colspan=\"2\" halign=\"left\">MTTF</th>\n",
       "    </tr>\n",
       "    <tr>\n",
       "      <th></th>\n",
       "      <th></th>\n",
       "      <th>text/tag</th>\n",
       "      <th>$\\beta$</th>\n",
       "      <th>$\\eta$</th>\n",
       "      <th>Weib.</th>\n",
       "      <th>K-M</th>\n",
       "    </tr>\n",
       "    <tr>\n",
       "      <th>Major System</th>\n",
       "      <th>method</th>\n",
       "      <th></th>\n",
       "      <th></th>\n",
       "      <th></th>\n",
       "      <th></th>\n",
       "      <th></th>\n",
       "    </tr>\n",
       "  </thead>\n",
       "  <tbody>\n",
       "    <tr>\n",
       "      <th rowspan=\"3\" valign=\"top\">Bucket</th>\n",
       "      <th>rules-based</th>\n",
       "      <td>Bucket</td>\n",
       "      <td>0.83$\\pm$0.03</td>\n",
       "      <td>0.060$\\pm$3e-3</td>\n",
       "      <td>10.8</td>\n",
       "      <td>9.00</td>\n",
       "    </tr>\n",
       "    <tr>\n",
       "      <th>single-tag</th>\n",
       "      <td>[bucket]</td>\n",
       "      <td>0.83$\\pm$0.03</td>\n",
       "      <td>0.038$\\pm$3e-3</td>\n",
       "      <td>17.1</td>\n",
       "      <td>15.0</td>\n",
       "    </tr>\n",
       "    <tr>\n",
       "      <th>multi-tag</th>\n",
       "      <td>[bucket, tooth, lip, pin]</td>\n",
       "      <td>0.82$\\pm$0.02</td>\n",
       "      <td>0.061$\\pm$3e-3</td>\n",
       "      <td>10.5</td>\n",
       "      <td>9.00</td>\n",
       "    </tr>\n",
       "    <tr>\n",
       "      <th rowspan=\"3\" valign=\"top\">Hydraulic System</th>\n",
       "      <th>rules-based</th>\n",
       "      <td>Hydraulic System</td>\n",
       "      <td>0.86$\\pm$0.02</td>\n",
       "      <td>0.072$\\pm$3e-3</td>\n",
       "      <td>9.07</td>\n",
       "      <td>8.00</td>\n",
       "    </tr>\n",
       "    <tr>\n",
       "      <th>single-tag</th>\n",
       "      <td>[hyd]</td>\n",
       "      <td>0.89$\\pm$0.04</td>\n",
       "      <td>0.028$\\pm$2e-3</td>\n",
       "      <td>24.1</td>\n",
       "      <td>25.0</td>\n",
       "    </tr>\n",
       "    <tr>\n",
       "      <th>multi-tag</th>\n",
       "      <td>[hyd, hose, pump, compressor]</td>\n",
       "      <td>0.89$\\pm$0.02</td>\n",
       "      <td>0.068$\\pm$3e-3</td>\n",
       "      <td>9.74</td>\n",
       "      <td>9.00</td>\n",
       "    </tr>\n",
       "    <tr>\n",
       "      <th rowspan=\"3\" valign=\"top\">Engine</th>\n",
       "      <th>rules-based</th>\n",
       "      <td>Engine</td>\n",
       "      <td>0.81$\\pm$0.02</td>\n",
       "      <td>0.059$\\pm$3e-3</td>\n",
       "      <td>10.8</td>\n",
       "      <td>9.00</td>\n",
       "    </tr>\n",
       "    <tr>\n",
       "      <th>single-tag</th>\n",
       "      <td>[engine]</td>\n",
       "      <td>0.79$\\pm$0.03</td>\n",
       "      <td>0.053$\\pm$3e-3</td>\n",
       "      <td>11.8</td>\n",
       "      <td>10.0</td>\n",
       "    </tr>\n",
       "    <tr>\n",
       "      <th>multi-tag</th>\n",
       "      <td>[engine, filter, fan]</td>\n",
       "      <td>0.81$\\pm$0.02</td>\n",
       "      <td>0.068$\\pm$4e-3</td>\n",
       "      <td>9.31</td>\n",
       "      <td>8.00</td>\n",
       "    </tr>\n",
       "  </tbody>\n",
       "</table>\n",
       "</div>"
      ],
      "text/plain": [
       "                                                      query Weibull Params  \\\n",
       "                                                   text/tag        $\\beta$   \n",
       "Major System     method                                                      \n",
       "Bucket           rules-based                         Bucket  0.83$\\pm$0.03   \n",
       "                 single-tag                        [bucket]  0.83$\\pm$0.03   \n",
       "                 multi-tag        [bucket, tooth, lip, pin]  0.82$\\pm$0.02   \n",
       "Hydraulic System rules-based               Hydraulic System  0.86$\\pm$0.02   \n",
       "                 single-tag                           [hyd]  0.89$\\pm$0.04   \n",
       "                 multi-tag    [hyd, hose, pump, compressor]  0.89$\\pm$0.02   \n",
       "Engine           rules-based                         Engine  0.81$\\pm$0.02   \n",
       "                 single-tag                        [engine]  0.79$\\pm$0.03   \n",
       "                 multi-tag            [engine, filter, fan]  0.81$\\pm$0.02   \n",
       "\n",
       "                                              MTTF        \n",
       "                                      $\\eta$ Weib.   K-M  \n",
       "Major System     method                                   \n",
       "Bucket           rules-based  0.060$\\pm$3e-3  10.8  9.00  \n",
       "                 single-tag   0.038$\\pm$3e-3  17.1  15.0  \n",
       "                 multi-tag    0.061$\\pm$3e-3  10.5  9.00  \n",
       "Hydraulic System rules-based  0.072$\\pm$3e-3  9.07  8.00  \n",
       "                 single-tag   0.028$\\pm$2e-3  24.1  25.0  \n",
       "                 multi-tag    0.068$\\pm$3e-3  9.74  9.00  \n",
       "Engine           rules-based  0.059$\\pm$3e-3  10.8  9.00  \n",
       "                 single-tag   0.053$\\pm$3e-3  11.8  10.0  \n",
       "                 multi-tag    0.068$\\pm$4e-3  9.31  8.00  "
      ]
     },
     "execution_count": 23,
     "metadata": {},
     "output_type": "execute_result"
    }
   ],
   "source": [
    "frames = [bucket_res, hyd_res, eng_res]\n",
    "res = pd.concat(frames, keys = [i.index.name for i in frames],\n",
    "               names=['Major System', 'method'])\n",
    "res"
   ]
  },
  {
   "cell_type": "code",
   "execution_count": 25,
   "metadata": {},
   "outputs": [
    {
     "data": {
      "image/png": "[encoded data removed]",
      "text/plain": [
       "<Figure size 360x720 with 3 Axes>"
      ]
     },
     "metadata": {},
     "output_type": "display_data"
    }
   ],
   "source": [
    "\n",
    "exp = [bucket_exp, eng_exp, hyd_exp]\n",
    "f,axes = plt.subplots(nrows=3, figsize=(5,10))\n",
    "for n, ax in enumerate(axes): \n",
    "    exp[n]['rules-based']['kmf'].plot(ax=ax, color='dodgerblue')\n",
    "    exp[n]['multi-tag']['kmf'].plot(ax=ax, color='xkcd:rust', ls=':')\n",
    "    exp[n]['single-tag']['kmf'].plot(ax=ax, color='xkcd:rust')\n",
    "    \n",
    "    ax.set_xlim(0,110)\n",
    "    ax.set_ylim(0,1)\n",
    "    ax.set_title(r\"$S(t)$\"+f\" of {res.index.levels[0][n]}\")\n",
    "    sns.despine()\n",
    "plt.tight_layout()\n",
    "# f.savefig('bkt_KMsurvival.png')   "
   ]
  },
  {
   "cell_type": "markdown",
   "metadata": {},
   "source": [
    "This next one give you an idea of the differences better. using a log-transform. the tags under-estimate death rates a little in the 80-130 day range, probably because there's a failure mode not captured by the [bucket, lip, tooth] tags (because it's rare)."
   ]
  },
  {
   "cell_type": "code",
   "execution_count": 27,
   "metadata": {},
   "outputs": [
    {
     "data": {
      "text/plain": [
       "<matplotlib.legend.Legend at 0x7feec3a10f28>"
      ]
     },
     "execution_count": 27,
     "metadata": {},
     "output_type": "execute_result"
    },
    {
     "data": {
      "image/png": "[encoded data removed]",
      "text/plain": [
       "<Figure size 360x720 with 3 Axes>"
      ]
     },
     "metadata": {},
     "output_type": "display_data"
    }
   ],
   "source": [
    "f,axes = plt.subplots(nrows=3, figsize=(5,10))\n",
    "for n, ax in enumerate(axes): \n",
    "    exp[n]['rules-based']['kmf'].plot_loglogs(ax=ax, c='dodgerblue')\n",
    "    exp[n]['single-tag']['kmf'].plot_loglogs(ax=ax, c='xkcd:rust', ls=':')\n",
    "    exp[n]['multi-tag']['kmf'].plot_loglogs(ax=ax, c='xkcd:rust')\n",
    "#     if n != 2:\n",
    "    ax.legend_.remove()\n",
    "#     ax.set_xlim(0,110)\n",
    "#     ax.set_ylim(0,1)\n",
    "    ax.set_title(r\"$\\log(-\\log(S(t)))$\"+f\" of {res.index.levels[0][n]}\")\n",
    "    sns.despine()\n",
    "plt.tight_layout()\n",
    "ax.legend()\n",
    "# f.savefig('bkt_logKMsurvival.png', dpi=300)\n",
    "# kmf.plot_loglogs()"
   ]
  },
  {
   "cell_type": "code",
   "execution_count": null,
   "metadata": {},
   "outputs": [],
   "source": []
  }
 ],
 "metadata": {
  "kernelspec": {
   "display_name": "Python 3",
   "language": "python",
   "name": "python3"
  },
  "language_info": {
   "codemirror_mode": {
    "name": "ipython",
    "version": 3
   },
   "file_extension": ".py",
   "mimetype": "text/x-python",
   "name": "python",
   "nbconvert_exporter": "python",
   "pygments_lexer": "ipython3",
   "version": "3.7.3"
  },
  "varInspector": {
   "cols": {
    "lenName": 16,
    "lenType": 16,
    "lenVar": 40
   },
   "kernels_config": {
    "python": {
     "delete_cmd_postfix": "",
     "delete_cmd_prefix": "del ",
     "library": "var_list.py",
     "varRefreshCmd": "print(var_dic_list())"
    },
    "r": {
     "delete_cmd_postfix": ") ",
     "delete_cmd_prefix": "rm(",
     "library": "var_list.r",
     "varRefreshCmd": "cat(var_dic_list()) "
    }
   },
   "types_to_exclude": [
    "module",
    "function",
    "builtin_function_or_method",
    "instance",
    "_Feature"
   ],
   "window_display": false
  }
 },
 "nbformat": 4,
 "nbformat_minor": 2
}
